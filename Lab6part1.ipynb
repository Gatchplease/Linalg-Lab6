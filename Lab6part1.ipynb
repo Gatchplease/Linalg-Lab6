{
  "nbformat": 4,
  "nbformat_minor": 0,
  "metadata": {
    "colab": {
      "name": "Untitled5.ipynb",
      "provenance": [],
      "collapsed_sections": []
    },
    "kernelspec": {
      "name": "python3",
      "display_name": "Python 3"
    },
    "language_info": {
      "name": "python"
    }
  },
  "cells": [
    {
      "cell_type": "code",
      "metadata": {
        "id": "0WMS4iR6q-Ed"
      },
      "source": [
        "import numpy as np\n",
        "import matplotlib.pyplot as plt\n",
        "import scipy.linalg as la\n",
        "%matplotlib inline"
      ],
      "execution_count": null,
      "outputs": []
    },
    {
      "cell_type": "code",
      "metadata": {
        "id": "Cw27lmabrQx6"
      },
      "source": [
        "def mat_operations(matrix):\n",
        "    if matrix.size > 0:\n",
        "        is_ones = True if np.all((matrix == 1)) else False \n",
        "        is_square = True if matrix.shape[0] == matrix.shape[1] else False ##checks if the matrix is a square\n",
        "        is_zero = True if np.all((matrix == 0)) else False ##checks if the matrix is equals to 0\n",
        "        is_identity = True if matrix.shape[0] == matrix.shape[1] and np.allclose(matrix, np.eye(matrix.shape[0])) else False\n",
        "        print(f'Matrix:\\n{matrix}\\n\\nShape:\\t{matrix.shape}\\nRank:\\t{matrix.ndim}\\nIs Square: {is_square}\\n')\n",
        "        print (f' is the matrix a ones matrix? {is_ones}\\n')\n",
        "        print (f' is the matrix a zero matrix? {is_zero} \\n')\n",
        "        print (f' is the matrix an identity matrix? {is_identity} \\n' )\n",
        "    else:\n",
        "        print('Matrix is Null')## Function area"
      ],
      "execution_count": 1,
      "outputs": []
    },
    {
      "cell_type": "code",
      "metadata": {
        "id": "xiGKLn_Aq_Xt"
      },
      "source": [
        "G = np.array([\n",
        "    [4,6,2],\n",
        "    [3,1,5],\n",
        "    [8,7,6]])\n",
        "\n",
        "A = np.array([\n",
        "    [2,3,1,4],\n",
        "    [0,3,2,4],\n",
        "    [1,0,3,2],\n",
        "    [1,2,3,4]])\n",
        "\n",
        "T = np.array([\n",
        "    [4,5,2],\n",
        "    [2,1,2],\n",
        "    [3,2,1],\n",
        "    [5,6,0]])\n",
        "C = np.array([\n",
        "    [2,3,1],\n",
        "    [0,5,4],\n",
        "    [9,9,9],\n",
        "    [2,4,3]])\n",
        "H = np.array([\n",
        "    [3,0,2,1,5],\n",
        "    [3,2,4,4,6],\n",
        "    [1,2,3,5,7],\n",
        "    [3,4,5,1,0]\n",
        "    \n",
        "])\n",
        "\n",
        "    ## Matrix declarations"
      ],
      "execution_count": null,
      "outputs": []
    },
    {
      "cell_type": "code",
      "metadata": {
        "colab": {
          "base_uri": "https://localhost:8080/"
        },
        "id": "bSiZwwdRrdPO",
        "outputId": "90056d2a-7e88-4521-a121-d005bb850722"
      },
      "source": [
        "mat_operations(G)"
      ],
      "execution_count": null,
      "outputs": [
        {
          "output_type": "stream",
          "text": [
            "Matrix:\n",
            "[[4 6 2]\n",
            " [3 1 5]\n",
            " [8 7 6]]\n",
            "\n",
            "Shape:\t(3, 3)\n",
            "Rank:\t2\n",
            "Is Square: True\n",
            "\n",
            " is the matrix a ones matrix? False\n",
            "\n",
            " is the matrix a zero matrix? False \n",
            "\n",
            " is the matrix an identity matrix? False \n",
            "\n"
          ],
          "name": "stdout"
        }
      ]
    },
    {
      "cell_type": "code",
      "metadata": {
        "colab": {
          "base_uri": "https://localhost:8080/"
        },
        "id": "g28fIH-yrfeW",
        "outputId": "3044933e-557f-4614-adc5-b5c4792f58ea"
      },
      "source": [
        "mat_operations(A)"
      ],
      "execution_count": null,
      "outputs": [
        {
          "output_type": "stream",
          "text": [
            "Matrix:\n",
            "[[2 3 1 4]\n",
            " [0 3 2 4]\n",
            " [1 0 3 2]\n",
            " [1 2 3 4]]\n",
            "\n",
            "Shape:\t(4, 4)\n",
            "Rank:\t2\n",
            "Is Square: True\n",
            "\n",
            " is the matrix a ones matrix? False\n",
            "\n",
            " is the matrix a zero matrix? False \n",
            "\n",
            " is the matrix an identity matrix? False \n",
            "\n"
          ],
          "name": "stdout"
        }
      ]
    },
    {
      "cell_type": "code",
      "metadata": {
        "colab": {
          "base_uri": "https://localhost:8080/"
        },
        "id": "2w07aZXOrkdZ",
        "outputId": "4b2f0108-814f-480a-ffb2-d89dc2356e0f"
      },
      "source": [
        "mat_operations(T)"
      ],
      "execution_count": null,
      "outputs": [
        {
          "output_type": "stream",
          "text": [
            "Matrix:\n",
            "[[4 5 2]\n",
            " [2 1 2]\n",
            " [3 2 1]\n",
            " [5 6 0]]\n",
            "\n",
            "Shape:\t(4, 3)\n",
            "Rank:\t2\n",
            "Is Square: False\n",
            "\n",
            " is the matrix a ones matrix? False\n",
            "\n",
            " is the matrix a zero matrix? False \n",
            "\n",
            " is the matrix an identity matrix? False \n",
            "\n"
          ],
          "name": "stdout"
        }
      ]
    },
    {
      "cell_type": "code",
      "metadata": {
        "colab": {
          "base_uri": "https://localhost:8080/"
        },
        "id": "WaSy7BVVrmWt",
        "outputId": "0df487f2-aaae-40be-bc24-dabe0dad2b92"
      },
      "source": [
        "mat_operations(C)"
      ],
      "execution_count": null,
      "outputs": [
        {
          "output_type": "stream",
          "text": [
            "Matrix:\n",
            "[[2 3 1]\n",
            " [0 5 4]\n",
            " [9 9 9]\n",
            " [2 4 3]]\n",
            "\n",
            "Shape:\t(4, 3)\n",
            "Rank:\t2\n",
            "Is Square: False\n",
            "\n",
            " is the matrix a ones matrix? False\n",
            "\n",
            " is the matrix a zero matrix? False \n",
            "\n",
            " is the matrix an identity matrix? False \n",
            "\n"
          ],
          "name": "stdout"
        }
      ]
    },
    {
      "cell_type": "code",
      "metadata": {
        "colab": {
          "base_uri": "https://localhost:8080/"
        },
        "id": "EXyc5zabrn9L",
        "outputId": "306052bd-5ca5-4769-f7d6-3d44e4d31277"
      },
      "source": [
        "mat_operations(H)"
      ],
      "execution_count": null,
      "outputs": [
        {
          "output_type": "stream",
          "text": [
            "Matrix:\n",
            "[[3 0 2 1 5]\n",
            " [3 2 4 4 6]\n",
            " [1 2 3 5 7]\n",
            " [3 4 5 1 0]]\n",
            "\n",
            "Shape:\t(4, 5)\n",
            "Rank:\t2\n",
            "Is Square: False\n",
            "\n",
            " is the matrix a ones matrix? False\n",
            "\n",
            " is the matrix a zero matrix? False \n",
            "\n",
            " is the matrix an identity matrix? False \n",
            "\n"
          ],
          "name": "stdout"
        }
      ]
    }
  ]
}